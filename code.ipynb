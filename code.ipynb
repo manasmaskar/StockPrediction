{
 "cells": [
  {
   "cell_type": "code",
   "execution_count": 3,
   "metadata": {},
   "outputs": [
    {
     "name": "stderr",
     "output_type": "stream",
     "text": [
      "[*********************100%%**********************]  1 of 1 completed"
     ]
    },
    {
     "name": "stderr",
     "output_type": "stream",
     "text": [
      "\n",
      "[*********************100%%**********************]  1 of 1 completed\n",
      "[*********************100%%**********************]  1 of 1 completed\n",
      "[*********************100%%**********************]  1 of 1 completed\n",
      "[*********************100%%**********************]  1 of 1 completed\n",
      "[*********************100%%**********************]  1 of 1 completed\n",
      "[*********************100%%**********************]  1 of 1 completed\n",
      "[*********************100%%**********************]  1 of 1 completed\n",
      "[*********************100%%**********************]  1 of 1 completed\n",
      "[*********************100%%**********************]  1 of 1 completed\n",
      "[*********************100%%**********************]  1 of 1 completed\n",
      "[*********************100%%**********************]  1 of 1 completed\n",
      "[*********************100%%**********************]  1 of 1 completed\n",
      "[*********************100%%**********************]  1 of 1 completed\n"
     ]
    }
   ],
   "source": [
    "import yfinance as yf\n",
    "import pandas as pd\n",
    "\n",
    "# List of tickers for the companies\n",
    "tickers = ['AAPL', 'MSFT', 'GOOGL', 'JPM', 'BAC', 'WFC', 'JNJ', 'PFE', 'MRK', 'XOM', 'CVX', 'Meta', 'VZ', 'T']\n",
    "\n",
    "# Empty list to store the dataframes\n",
    "combined_df_list = []\n",
    "\n",
    "# Fetching data for each ticker and appending to the list\n",
    "for ticker in tickers:\n",
    "    data = yf.download(ticker, start=\"2024-01-01\", end=\"2024-04-30\")\n",
    "    \n",
    "    # Calculate the short-term (12-day) and long-term (26-day) exponential moving averages\n",
    "    data['EMA_12'] = data['Close'].ewm(span=12, adjust=False).mean()\n",
    "    data['EMA_26'] = data['Close'].ewm(span=26, adjust=False).mean()\n",
    "    \n",
    "    # Calculate the MACD line\n",
    "    data['MACD'] = data['EMA_12'] - data['EMA_26']\n",
    "    \n",
    "    # Calculate the Signal Line (9-day EMA of MACD)\n",
    "    data['Signal_Line'] = data['MACD'].ewm(span=9, adjust=False).mean()\n",
    "    \n",
    "    # Drop the intermediate columns (EMA_12 and EMA_26)\n",
    "    data.drop(['EMA_12', 'EMA_26'], axis=1, inplace=True)\n",
    "    \n",
    "    combined_df_list.append(data)\n",
    "\n",
    "# Now combined_df_list contains the stock data for each company with MACD and Signal Line\n"
   ]
  },
  {
   "cell_type": "code",
   "execution_count": 12,
   "metadata": {},
   "outputs": [
    {
     "name": "stdout",
     "output_type": "stream",
     "text": [
      "     level_0       Date        Open        High         Low       Close  \\\n",
      "0       AAPL 2024-01-02  187.149994  188.440002  183.889999  185.639999   \n",
      "1       AAPL 2024-01-03  184.220001  185.880005  183.429993  184.250000   \n",
      "2       AAPL 2024-01-04  182.149994  183.089996  180.880005  181.910004   \n",
      "3       AAPL 2024-01-05  181.990005  182.759995  180.169998  181.179993   \n",
      "4       AAPL 2024-01-08  182.089996  185.600006  181.500000  185.559998   \n",
      "...      ...        ...         ...         ...         ...         ...   \n",
      "1143       T 2024-04-23   16.379999   16.530001   16.290001   16.500000   \n",
      "1144       T 2024-04-24   16.900000   17.030001   16.379999   16.809999   \n",
      "1145       T 2024-04-25   16.700001   17.000000   16.500000   16.580000   \n",
      "1146       T 2024-04-26   16.469999   16.879999   16.389999   16.750000   \n",
      "1147       T 2024-04-29   16.990000   17.280001   16.990000   17.020000   \n",
      "\n",
      "       Adj Close    Volume      MACD  Signal_Line  \n",
      "0     185.403412  82488700  0.000000     0.000000  \n",
      "1     184.015198  58414500 -0.110883    -0.022177  \n",
      "2     181.678177  71983600 -0.383160    -0.094373  \n",
      "3     180.949097  62303300 -0.650351    -0.205569  \n",
      "4     185.323517  59144500 -0.502874    -0.265030  \n",
      "...          ...       ...       ...          ...  \n",
      "1143   16.500000  47805000 -0.233178    -0.184415  \n",
      "1144   16.809999  74197800 -0.194036    -0.186339  \n",
      "1145   16.580000  46680400 -0.179506    -0.184973  \n",
      "1146   16.750000  37852700 -0.152515    -0.178481  \n",
      "1147   17.020000  42383300 -0.108091    -0.164403  \n",
      "\n",
      "[1148 rows x 10 columns]\n"
     ]
    }
   ],
   "source": [
    "combined_df = pd.concat(combined_df_list, keys=tickers)\n",
    "\n",
    "# Reset index to remove multi-indexing\n",
    "combined_df.reset_index(inplace=True)\n",
    "\n",
    "# Display the combined dataframe\n",
    "print(combined_df)"
   ]
  },
  {
   "cell_type": "code",
   "execution_count": 13,
   "metadata": {},
   "outputs": [
    {
     "name": "stdout",
     "output_type": "stream",
     "text": [
      "<class 'pandas.core.frame.DataFrame'>\n",
      "RangeIndex: 1148 entries, 0 to 1147\n",
      "Data columns (total 10 columns):\n",
      " #   Column       Non-Null Count  Dtype         \n",
      "---  ------       --------------  -----         \n",
      " 0   level_0      1148 non-null   object        \n",
      " 1   Date         1148 non-null   datetime64[ns]\n",
      " 2   Open         1148 non-null   float64       \n",
      " 3   High         1148 non-null   float64       \n",
      " 4   Low          1148 non-null   float64       \n",
      " 5   Close        1148 non-null   float64       \n",
      " 6   Adj Close    1148 non-null   float64       \n",
      " 7   Volume       1148 non-null   int64         \n",
      " 8   MACD         1148 non-null   float64       \n",
      " 9   Signal_Line  1148 non-null   float64       \n",
      "dtypes: datetime64[ns](1), float64(7), int64(1), object(1)\n",
      "memory usage: 89.8+ KB\n"
     ]
    }
   ],
   "source": [
    "combined_df.info()"
   ]
  },
  {
   "cell_type": "code",
   "execution_count": 14,
   "metadata": {},
   "outputs": [],
   "source": [
    "from sklearn.model_selection import train_test_split\n",
    "from sklearn.linear_model import LinearRegression\n",
    "from sklearn.metrics import mean_squared_error"
   ]
  },
  {
   "cell_type": "code",
   "execution_count": 19,
   "metadata": {},
   "outputs": [],
   "source": [
    "X = combined_df.drop(['Close', 'level_0', 'Date', 'Adj Close'], axis=1)\n",
    "y = combined_df['Close']\n",
    "\n",
    "# Splitting the data into training and testing sets\n",
    "X_train, X_test, y_train, y_test = train_test_split(X, y, test_size=0.2, random_state=42)"
   ]
  },
  {
   "cell_type": "code",
   "execution_count": 20,
   "metadata": {},
   "outputs": [
    {
     "name": "stdout",
     "output_type": "stream",
     "text": [
      "Mean Squared Error: 1.5531891324453182\n"
     ]
    }
   ],
   "source": [
    "model = LinearRegression()\n",
    "model.fit(X_train, y_train)\n",
    "\n",
    "# Making predictions\n",
    "y_pred = model.predict(X_test)\n",
    "\n",
    "# Evaluating the model\n",
    "mse = mean_squared_error(y_test, y_pred)\n",
    "print(\"Mean Squared Error:\", mse)"
   ]
  },
  {
   "cell_type": "code",
   "execution_count": 23,
   "metadata": {},
   "outputs": [
    {
     "name": "stdout",
     "output_type": "stream",
     "text": [
      "Mean Squared Error: 1.5531891324453182\n"
     ]
    }
   ],
   "source": [
    "#setting up standard scaler\n",
    "\n",
    "import pandas as pd\n",
    "from sklearn.model_selection import train_test_split\n",
    "from sklearn.linear_model import LinearRegression\n",
    "from sklearn.metrics import mean_squared_error\n",
    "from sklearn.preprocessing import StandardScaler\n",
    "from sklearn.metrics import mean_squared_error, mean_absolute_error,r2_score\n",
    "\n",
    "# Load the dataframe\n",
    "\n",
    "\n",
    "features = combined_df.drop(['Close', 'level_0', 'Date', 'Adj Close'], axis=1)\n",
    "target = combined_df['Close']\n",
    "\n",
    "# Feature scaling\n",
    "scaler = StandardScaler()\n",
    "scaled_features = scaler.fit_transform(features)\n",
    "\n",
    "# Splitting the scaled data into training and testing sets\n",
    "X_train, X_test, y_train, y_test = train_test_split(scaled_features, target, test_size=0.2, random_state=42)\n",
    "\n",
    "# Initializing and fitting the linear regression model\n",
    "model = LinearRegression()\n",
    "model.fit(X_train, y_train)\n",
    "\n",
    "# Making predictions\n",
    "y_pred_StandardScaler = model.predict(X_test)\n",
    "\n",
    "# Evaluating the model\n",
    "mse = mean_squared_error(y_test, y_pred)\n",
    "print(\"Mean Squared Error:\", mse)\n"
   ]
  },
  {
   "cell_type": "code",
   "execution_count": 25,
   "metadata": {},
   "outputs": [
    {
     "name": "stdout",
     "output_type": "stream",
     "text": [
      "Mean Squared Error (MSE): 1.5531891684208108\n",
      "Root Mean Squared Error (RMSE): 1.2462701025142227\n",
      "Mean Absolute Error (MAE): 0.685385872690843\n"
     ]
    }
   ],
   "source": [
    "import numpy as np\n",
    "from sklearn.metrics import mean_squared_error, mean_absolute_error, r2_score\n",
    "\n",
    "# Calculate Mean Squared Error (MSE)\n",
    "mse = mean_squared_error(y_test, y_pred_StandardScaler)\n",
    "\n",
    "# Calculate Root Mean Squared Error (RMSE)\n",
    "rmse = np.sqrt(mse)\n",
    "\n",
    "# Calculate Mean Absolute Error (MAE)\n",
    "mae = mean_absolute_error(y_test, y_pred_StandardScaler)\n",
    "\n",
    "print(\"Mean Squared Error (MSE):\", mse)\n",
    "print(\"Root Mean Squared Error (RMSE):\", rmse)\n",
    "print(\"Mean Absolute Error (MAE):\", mae)\n",
    "\n"
   ]
  },
  {
   "cell_type": "code",
   "execution_count": null,
   "metadata": {},
   "outputs": [],
   "source": []
  }
 ],
 "metadata": {
  "kernelspec": {
   "display_name": "base",
   "language": "python",
   "name": "python3"
  },
  "language_info": {
   "codemirror_mode": {
    "name": "ipython",
    "version": 3
   },
   "file_extension": ".py",
   "mimetype": "text/x-python",
   "name": "python",
   "nbconvert_exporter": "python",
   "pygments_lexer": "ipython3",
   "version": "3.11.4"
  },
  "orig_nbformat": 4
 },
 "nbformat": 4,
 "nbformat_minor": 2
}
